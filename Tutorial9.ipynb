{
  "nbformat": 4,
  "nbformat_minor": 0,
  "metadata": {
    "colab": {
      "provenance": [],
      "authorship_tag": "ABX9TyMN6hMmf0L44doAsRNYBwuR",
      "include_colab_link": true
    },
    "kernelspec": {
      "name": "python3",
      "display_name": "Python 3"
    },
    "language_info": {
      "name": "python"
    }
  },
  "cells": [
    {
      "cell_type": "markdown",
      "metadata": {
        "id": "view-in-github",
        "colab_type": "text"
      },
      "source": [
        "<a href=\"https://colab.research.google.com/github/JGrant3101/ME4MachineLearning/blob/main/Tutorial9.ipynb\" target=\"_parent\"><img src=\"https://colab.research.google.com/assets/colab-badge.svg\" alt=\"Open In Colab\"/></a>"
      ]
    },
    {
      "cell_type": "code",
      "execution_count": 1,
      "metadata": {
        "id": "cx_LmgPkXQmf"
      },
      "outputs": [],
      "source": [
        "# Importing all the libraries we might need and setting the random seed to 0\n",
        "import matplotlib.pyplot as plt\n",
        "import matplotlib.image as mpimg\n",
        "import numpy as np\n",
        "import sklearn\n",
        "from sklearn import datasets\n",
        "from sklearn import model_selection\n",
        "from sklearn import naive_bayes\n",
        "from sklearn import linear_model\n",
        "from sklearn import neighbors\n",
        "from sklearn import tree\n",
        "from sklearn import ensemble\n",
        "from sklearn.naive_bayes import GaussianNB\n",
        "from sklearn.linear_model import LinearRegression\n",
        "from sklearn import preprocessing\n",
        "from sklearn.preprocessing import PolynomialFeatures\n",
        "from sklearn import svm\n",
        "from sklearn.svm import SVC\n",
        "from sklearn.model_selection import KFold\n",
        "from sklearn.neighbors import KernelDensity\n",
        "from sklearn.neighbors import KNeighborsClassifier\n",
        "import pandas\n",
        "import plotly.graph_objects as go\n",
        "import sys\n",
        "import tensorflow\n",
        "from tensorflow import keras\n",
        "from tensorflow.keras import models\n",
        "from tensorflow.keras import layers\n",
        "from tensorflow.keras import utils\n",
        "from tensorflow.keras.models import Sequential\n",
        "from tensorflow.keras.layers import Dense\n",
        "from tensorflow.keras.utils import *\n",
        "\n",
        "# Setting random seed to 0\n",
        "np.random.seed(0)"
      ]
    }
  ]
}