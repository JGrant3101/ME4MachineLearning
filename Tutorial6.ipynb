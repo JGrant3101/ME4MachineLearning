{
  "nbformat": 4,
  "nbformat_minor": 0,
  "metadata": {
    "colab": {
      "provenance": [],
      "include_colab_link": true
    },
    "kernelspec": {
      "name": "python3",
      "display_name": "Python 3"
    }
  },
  "cells": [
    {
      "cell_type": "markdown",
      "metadata": {
        "id": "view-in-github",
        "colab_type": "text"
      },
      "source": [
        "<a href=\"https://colab.research.google.com/github/JGrant3101/ME4MachineLearning/blob/main/Tutorial6.ipynb\" target=\"_parent\"><img src=\"https://colab.research.google.com/assets/colab-badge.svg\" alt=\"Open In Colab\"/></a>"
      ]
    },
    {
      "cell_type": "code",
      "metadata": {
        "id": "ktf471zM8zzZ"
      },
      "source": [
        "import numpy as np\n",
        "\n",
        "\n",
        "def get_cov(sdx=1., sdy=1., rotangdeg=0.):\n",
        "    covar = np.array([[sdx, 0], [0, sdy]])\n",
        "    rot_ang = rotangdeg / 360 * 2 * np.pi\n",
        "    rot_mat = np.array([[np.cos(rot_ang), -np.sin(rot_ang)], [np.sin(rot_ang), np.cos(rot_ang)]])\n",
        "\n",
        "    covar = np.matmul(np.matmul(rot_mat, covar), rot_mat.transpose())\n",
        "    return covar\n",
        "\n",
        "\n",
        "def gen_circular_distribution(n=500, scale=1):\n",
        "    a = np.round(n / 7).astype('int')\n",
        "    b = np.round(2*n / 7).astype('int')\n",
        "    c = n - a - b\n",
        "    r1 = np.concatenate(\n",
        "        [np.random.normal(loc=2, scale=scale, size=[a, 1]), np.random.normal(loc=8, scale=scale, size=[c, 1])])\n",
        "    r2 = np.random.normal(loc=5, scale=scale, size=[b, 1])\n",
        "\n",
        "    th1 = np.random.uniform(low=0, high=2 * np.pi, size=[a+c, 1])\n",
        "    th2 = np.random.uniform(low=0, high=2 * np.pi, size=[b, 1])\n",
        "\n",
        "    x1a = r1 * np.cos(th1)\n",
        "    x2a = r1 * np.sin(th1)\n",
        "\n",
        "    x1b = r2 * np.cos(th2)\n",
        "    x2b = r2 * np.sin(th2)\n",
        "\n",
        "    X = np.concatenate([np.concatenate([x1a.reshape([a+c, 1]), x1b.reshape([b, 1])]),\n",
        "                        np.concatenate([x2a.reshape([a+c, 1]), x2b.reshape([b, 1])])], axis=1)\n",
        "\n",
        "    y = np.concatenate([np.zeros([a+c, 1]), np.ones([b, 1])]).squeeze()\n",
        "    return X, y\n",
        "\n",
        "\n",
        "def gen_simple_circular_distribution(n=100, scale=1):\n",
        "    a = np.round(n/3).astype('int')\n",
        "    b = n-a\n",
        "    r1 = np.random.normal(loc=0, scale=scale, size=[a, 1])\n",
        "    r2 = np.random.normal(loc=5, scale=scale, size=[b, 1])\n",
        "\n",
        "    th1 = np.random.uniform(low=0, high=2 * np.pi, size=[a, 1])\n",
        "    th2 = np.random.uniform(low=0, high=2 * np.pi, size=[b, 1])\n",
        "\n",
        "    x1a = r1 * np.cos(th1)\n",
        "    x2a = r1 * np.sin(th1)\n",
        "\n",
        "    x1b = r2 * np.cos(th2)\n",
        "    x2b = r2 * np.sin(th2)\n",
        "\n",
        "    X = np.concatenate([np.concatenate([x1a.reshape([a, 1]), x1b.reshape([b, 1])]),\n",
        "                        np.concatenate([x2a.reshape([a, 1]), x2b.reshape([b, 1])])], axis=1)\n",
        "\n",
        "    y = np.concatenate([np.zeros([a, 1]), np.ones([b, 1])]).squeeze()\n",
        "    return X, y\n",
        "\n",
        "\n",
        "def gen_xor_distribution(n=100):\n",
        "    a = np.round(n / 4).astype('int')\n",
        "    b = n-a*3\n",
        "    xc1 = np.concatenate([np.random.multivariate_normal([-2.3, -2.3], get_cov(0.4, 0.1, -45), a),\n",
        "                          np.random.multivariate_normal([2.3, 2.3], get_cov(0.4, 0.1, -45), a)])\n",
        "    xc2 = np.concatenate([np.random.multivariate_normal([-2.3, 2.3], get_cov(0.4, 0.1, 45), a),\n",
        "                          np.random.multivariate_normal([2.3, -2.3], get_cov(0.4, 0.1, 45), b)])\n",
        "    xc = np.array(np.concatenate([xc1, xc2]))\n",
        "\n",
        "    y = np.array(np.concatenate([np.zeros([2 * a, 1]), np.ones([a+b, 1])])).squeeze()\n",
        "    X = xc\n",
        "    return X, y\n"
      ],
      "execution_count": 1,
      "outputs": []
    },
    {
      "cell_type": "markdown",
      "source": [
        "Above is the template for the tutorial containing some functions that will be used"
      ],
      "metadata": {
        "id": "FSPn6BhaQP5P"
      }
    },
    {
      "cell_type": "code",
      "source": [
        "# Here I'm importing all the other libaries which have been used in previous tutorials in case they come up again\n",
        "import matplotlib.pyplot as plt\n",
        "import sklearn\n",
        "from sklearn import datasets\n",
        "from sklearn import model_selection\n",
        "from sklearn import naive_bayes\n",
        "from sklearn import linear_model\n",
        "from sklearn.naive_bayes import GaussianNB\n",
        "from sklearn.linear_model import LinearRegression\n",
        "from sklearn import preprocessing\n",
        "from sklearn.preprocessing import PolynomialFeatures\n",
        "from sklearn import svm\n",
        "from sklearn.svm import SVC\n",
        "from sklearn.model_selection import KFold\n",
        "import pandas\n",
        "import plotly.graph_objects as go\n",
        "import sys\n",
        "import tensorflow\n",
        "from tensorflow import keras\n",
        "from tensorflow.keras import models\n",
        "from tensorflow.keras import layers\n",
        "from tensorflow.keras.models import Sequential\n",
        "from tensorflow.keras.layers import Dense\n",
        "\n",
        "# Setting random seed so our results don't change each time the code is rerun\n",
        "np.random.seed(0)"
      ],
      "metadata": {
        "id": "SV6e3ip4QdRI"
      },
      "execution_count": 6,
      "outputs": []
    },
    {
      "cell_type": "markdown",
      "source": [
        "Question 1"
      ],
      "metadata": {
        "id": "ZpWB8-5MQiiP"
      }
    },
    {
      "cell_type": "code",
      "source": [
        "# Fitting a funtion using Keras\n",
        "# Defining an x array\n",
        "x = np.linspace(0, 1, 200)\n",
        "\n",
        "# Setting up a function of x\n",
        "y = x.copy()\n",
        "y[x < 0.1] = 0\n",
        "y[x >= 0.1] = 0.5 * (x[x >= 0.1] - 0.1)\n",
        "y[x >= 0.6] = 0.25 - 0.25/0.2 * ((x[x >= 0.6] - 0.6))\n",
        "y[x > 0.8] = 0\n",
        "\n",
        "fig, ax = plt.subplots()\n",
        "plt.plot(x, y)"
      ],
      "metadata": {
        "colab": {
          "base_uri": "https://localhost:8080/",
          "height": 447
        },
        "id": "ZcO6NkyPQjo3",
        "outputId": "238ce860-fa3a-4142-e7a8-4634b7dd528c"
      },
      "execution_count": 4,
      "outputs": [
        {
          "output_type": "execute_result",
          "data": {
            "text/plain": [
              "[<matplotlib.lines.Line2D at 0x7b4e0e8df280>]"
            ]
          },
          "metadata": {},
          "execution_count": 4
        },
        {
          "output_type": "display_data",
          "data": {
            "text/plain": [
              "<Figure size 640x480 with 1 Axes>"
            ],
            "image/png": "[encoded data removed]"
          },
          "metadata": {}
        }
      ]
    },
    {
      "cell_type": "markdown",
      "source": [
        "Above we have plotted an example of combinations of ReLUs, we will now use Keras to fit the function"
      ],
      "metadata": {
        "id": "ifML23P9To9V"
      }
    },
    {
      "cell_type": "code",
      "source": [
        "# Set up a sequential neural network\n",
        "model = Sequential()\n",
        "\n",
        "# Add a layer of 3 nodes of ReLUs, taking a single parametric input\n",
        "model.add(Dense(units = 10, activation = 'relu', input_dim = 1))\n",
        "model.add(Dense(units = 10, activation = 'relu'))\n",
        "model.add(Dense(units = 10, activation = 'relu'))\n",
        "# Add a linear node at the end to combine the nodes together\n",
        "model.add(Dense(units = 1, activation = 'linear'))\n",
        "\n",
        "# Compile the model, trying to minimise the mean squared error and using the Adam algorithm to fit this\n",
        "model.compile(loss = 'mean_squared_error', optimizer = 'adam')\n",
        "\n",
        "# Fit the data provided, using 200 epochs and a batch size of 32.\n",
        "model.fit(x, y, epochs = 200, batch_size = 32)\n",
        "\n",
        "# Obtain a predicted set of values from the fitted function along its length\n",
        "y_pred = model.predict(x)\n",
        "\n",
        "# Plotting the predicted values and the true values\n",
        "fig2, ax2 = plt.subplots()\n",
        "plt.plot(x, y, label = 'True values')\n",
        "plt.plot(x, y_pred, label = 'Predicted values')\n",
        "\n",
        "# Can manually set weights to be correct\n",
        "#model.layers[0].set_weights([np.array([[0.5,-(-0.5-0.25/0.2),0.25/0.2]],),\n",
        "#np.array([-0.5*0.1,(-0.5-0.25/0.2)*0.6,-(0.25/0.2)*0.8],)])\n",
        "#model.layers[1].set_weights([np.array([[1],[-1],[1]],),np.array([0],)])\n",
        "#y_predCorrect = model.predict(x)\n",
        "#plt.plot(x, y_predCorrect, label = 'Correct predicted values')\n",
        "plt.legend()"
      ],
      "metadata": {
        "id": "7Tpu5y0yTuQp"
      },
      "execution_count": null,
      "outputs": []
    },
    {
      "cell_type": "markdown",
      "source": [
        "Above we have created a neural network using keras to predict a ReLU based function, the tutorial saw us vary the number of epochs run through, layers and the function it was based on to see how that changed the prediction"
      ],
      "metadata": {
        "id": "Dw26aKtPdV35"
      }
    },
    {
      "cell_type": "markdown",
      "source": [
        "Question 2"
      ],
      "metadata": {
        "id": "irabekw4dnVA"
      }
    },
    {
      "cell_type": "code",
      "source": [],
      "metadata": {
        "id": "ztk-YrAPdowN"
      },
      "execution_count": null,
      "outputs": []
    }
  ]
}