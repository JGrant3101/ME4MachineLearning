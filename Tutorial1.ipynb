{
  "nbformat": 4,
  "nbformat_minor": 0,
  "metadata": {
    "colab": {
      "provenance": [],
      "authorship_tag": "ABX9TyMOq1S4h47zxIjZN5fTL2r3",
      "include_colab_link": true
    },
    "kernelspec": {
      "name": "python3",
      "display_name": "Python 3"
    },
    "language_info": {
      "name": "python"
    }
  },
  "cells": [
    {
      "cell_type": "markdown",
      "metadata": {
        "id": "view-in-github",
        "colab_type": "text"
      },
      "source": [
        "<a href=\"https://colab.research.google.com/github/JGrant3101/ME4MachineLearning/blob/main/Tutorial1.ipynb\" target=\"_parent\"><img src=\"https://colab.research.google.com/assets/colab-badge.svg\" alt=\"Open In Colab\"/></a>"
      ]
    },
    {
      "cell_type": "code",
      "execution_count": 18,
      "metadata": {
        "id": "48xVOOryL76V"
      },
      "outputs": [],
      "source": [
        "# Importing numpy library\n",
        "import numpy as np\n",
        "# Setting random seed to 0\n",
        "np.random.seed(0)"
      ]
    },
    {
      "cell_type": "markdown",
      "source": [
        "This setting of the random seed ensures that any randomly generated variables in the rest of the code are the same each time i.e. repeatable. This should be done for all tutorials unless otherwise specified"
      ],
      "metadata": {
        "id": "4bIo363qMUoS"
      }
    },
    {
      "cell_type": "code",
      "source": [
        "# Importing sklearn library and datasets from that library\n",
        "import sklearn\n",
        "from sklearn import datasets\n",
        "# Creating a dummy dataset\n",
        "X, y = sklearn.datasets.make_classification(n_samples = 100, n_features = 2, n_informative = 2, n_redundant = 0)"
      ],
      "metadata": {
        "id": "DZ2zPN9uMm2i"
      },
      "execution_count": 19,
      "outputs": []
    },
    {
      "cell_type": "markdown",
      "source": [
        "This has created a dataset of 100 samples and 2 features, so each sample has two pieces of information associated with it. By setting the number of informative features to 2 and redundant to 0 we are saying that every piece of information each sample comes with has an impact on the output."
      ],
      "metadata": {
        "id": "itjCTbO9ZWZX"
      }
    },
    {
      "cell_type": "code",
      "source": [
        "# Manipulating the inputs of the dataset to conform to the tutorial question\n",
        "X[:, 0] = np.abs(X[:, 0] * 0.5 + 5)\n",
        "X[:, 1] = np.abs(X[:, 1] * 30 + 160)"
      ],
      "metadata": {
        "id": "ZYu1TOVfZphH"
      },
      "execution_count": 20,
      "outputs": []
    },
    {
      "cell_type": "markdown",
      "source": [
        "Here we are manipulating the inputs we randomly generated to conform with the tutorial question, the first column is crack defect length in mm and the second column is brightness of the crack."
      ],
      "metadata": {
        "id": "gAtp5oYeaL4H"
      }
    },
    {
      "cell_type": "code",
      "source": [
        "# Importing the plotting library\n",
        "import matplotlib.pyplot as plt\n",
        "# Plotting the two separate classes of inputs on the same axis, x axis is first column of input\n",
        "# (crack length) and the y axis is the second column (Crack brightness)\n",
        "fig , ax = plt.subplots()\n",
        "ax.scatter(X[y == 0, 0], X[y == 0, 1])\n",
        "ax.scatter(X[y == 1, 0], X[y == 1, 1])"
      ],
      "metadata": {
        "colab": {
          "base_uri": "https://localhost:8080/",
          "height": 447
        },
        "id": "raoE5NcdaLFU",
        "outputId": "45ec8877-04d0-4b91-c503-8e3841eca33f"
      },
      "execution_count": 24,
      "outputs": [
        {
          "output_type": "execute_result",
          "data": {
            "text/plain": [
              "<matplotlib.collections.PathCollection at 0x7f79360a8c10>"
            ]
          },
          "metadata": {},
          "execution_count": 24
        },
        {
          "output_type": "display_data",
          "data": {
            "text/plain": [
              "<Figure size 640x480 with 1 Axes>"
            ],
            "image/png": "[encoded data removed]"
          },
          "metadata": {}
        }
      ]
    },
    {
      "cell_type": "markdown",
      "source": [
        "Here we have potted the inputs, the two class being separated into two different colours"
      ],
      "metadata": {
        "id": "-BXEyHSfdnY-"
      }
    }
  ]
}