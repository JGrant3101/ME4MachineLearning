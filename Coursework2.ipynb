{
  "nbformat": 4,
  "nbformat_minor": 0,
  "metadata": {
    "colab": {
      "provenance": [],
      "include_colab_link": true
    },
    "kernelspec": {
      "name": "python3",
      "display_name": "Python 3"
    },
    "language_info": {
      "name": "python"
    }
  },
  "cells": [
    {
      "cell_type": "markdown",
      "metadata": {
        "id": "view-in-github",
        "colab_type": "text"
      },
      "source": [
        "<a href=\"https://colab.research.google.com/github/JGrant3101/ME4MachineLearning/blob/main/Coursework2.ipynb\" target=\"_parent\"><img src=\"https://colab.research.google.com/assets/colab-badge.svg\" alt=\"Open In Colab\"/></a>"
      ]
    },
    {
      "cell_type": "markdown",
      "source": [
        "Will start by importing all the libraries which might need to be used."
      ],
      "metadata": {
        "id": "z6KH25qmc006"
      }
    },
    {
      "cell_type": "code",
      "execution_count": 11,
      "metadata": {
        "id": "CTrRPkLkcx-l"
      },
      "outputs": [],
      "source": [
        "import matplotlib.pyplot as plt\n",
        "import numpy as np\n",
        "import sklearn\n",
        "from sklearn import datasets\n",
        "from sklearn import model_selection\n",
        "from sklearn import naive_bayes\n",
        "from sklearn import linear_model\n",
        "from sklearn.naive_bayes import GaussianNB\n",
        "from sklearn.linear_model import LinearRegression\n",
        "from sklearn import preprocessing\n",
        "from sklearn.preprocessing import PolynomialFeatures\n",
        "from sklearn import svm\n",
        "from sklearn.svm import SVC\n",
        "from sklearn.model_selection import KFold\n",
        "import pandas\n",
        "import plotly.graph_objects as go\n",
        "import sys\n",
        "import tensorflow\n",
        "from tensorflow import keras\n",
        "from tensorflow.keras import models\n",
        "from tensorflow.keras import layers\n",
        "from tensorflow.keras import utils\n",
        "from tensorflow.keras.models import Sequential\n",
        "from tensorflow.keras.layers import Dense\n",
        "from tensorflow.keras.utils import *"
      ]
    },
    {
      "cell_type": "markdown",
      "source": [
        "Firstly going to build the neural network for dataset1"
      ],
      "metadata": {
        "id": "ngshmKkneNDx"
      }
    },
    {
      "cell_type": "code",
      "source": [
        "# Start by importing the dataset\n",
        "dataset1 = pandas.read_csv('/content/dataset1.csv')\n",
        "\n",
        "# Write each column of the file to an array to make it easier to work with\n",
        "ArmLength1 = np.array(dataset1['Arm length (m)'][:])\n",
        "BallWeight1 = np.array(dataset1['Ball weight (kg)'][:])\n",
        "BallRadius1 = np.array(dataset1['Ball radius (mm)'][:])\n",
        "AirTemp1 = np.array(dataset1['Air temperature (deg C)'][:])\n",
        "SpringConst1 = np.array(dataset1['Spring constant (N per m)'][:])\n",
        "DeviceWeight1 = np.array(dataset1['Device weight (kg)'][:])\n",
        "TargetHit1 = np.array(dataset1['Target hit'][:])\n",
        "# Converting our currently 1D y values to 2D to match our model\n",
        "TargetHit1_binary = to_categorical(TargetHit1)\n",
        "\n",
        "# Going to scale each all of the data so want to find the mean and standard deviation\n",
        "ArmLength1Mean = np.mean(ArmLength1)\n",
        "ArmLength1std = np.std(ArmLength1)\n",
        "BallWeight1Mean = np.mean(BallWeight1)\n",
        "BallWeight1std = np.std(BallWeight1)\n",
        "BallRadius1Mean = np.mean(BallRadius1)\n",
        "BallRadius1std = np.std(BallRadius1)\n",
        "AirTemp1Mean = np.mean(AirTemp1)\n",
        "AirTemp1std = np.std(AirTemp1)\n",
        "SpringConst1Mean = np.mean(SpringConst1)\n",
        "SpringConst1std = np.std(SpringConst1)\n",
        "DeviceWeight1Mean = np.mean(DeviceWeight1)\n",
        "DeviceWeight1std = np.std(DeviceWeight1)\n",
        "\n",
        "# Finally creating the scaled arrays using these mean and std values\n",
        "ArmLength1Scaled = (ArmLength1 - ArmLength1Mean)/ArmLength1std\n",
        "BallWeight1Scaled = (BallWeight1 - BallWeight1Mean)/BallWeight1std\n",
        "BallRadius1Scaled = (BallRadius1 - BallRadius1Mean)/BallRadius1std\n",
        "AirTemp1Scaled = (AirTemp1 - AirTemp1Mean)/AirTemp1std\n",
        "SpringConst1Scaled = (SpringConst1 - SpringConst1Mean)/SpringConst1std\n",
        "DeviceWeight1Scaled = (DeviceWeight1 - DeviceWeight1Mean)/DeviceWeight1std\n",
        "\n",
        "# Finally forming these into one array to be parsed into the fit function\n",
        "Inputs = np.zeros((2000, 6))\n",
        "Inputs[:,0] = ArmLength1Scaled\n",
        "Inputs[:,1] = BallWeight1Scaled\n",
        "Inputs[:,2] = BallRadius1Scaled\n",
        "Inputs[:,3] = AirTemp1Scaled\n",
        "Inputs[:,4] = SpringConst1Scaled\n",
        "Inputs[:,5] = DeviceWeight1Scaled"
      ],
      "metadata": {
        "id": "95wNeH_peRL4"
      },
      "execution_count": 37,
      "outputs": []
    },
    {
      "cell_type": "markdown",
      "source": [
        "Above we have imported and processed our input data to be used to train the network"
      ],
      "metadata": {
        "id": "W6NruT16jp0K"
      }
    },
    {
      "cell_type": "markdown",
      "source": [
        "Now will do the actual construction of the network"
      ],
      "metadata": {
        "id": "5leFeJ55jwwm"
      }
    },
    {
      "cell_type": "code",
      "source": [
        "# Initialising our neural network\n",
        "model1 = Sequential()\n",
        "\n",
        "# Adding layers, these layers are two layers of 4 nodes using the ReLU function and 1 with 2 nodes using the softmax function\n",
        "model1.add(Dense(units = 10, activation = 'relu', input_dim = 6))\n",
        "model1.add(Dense(units = 12, activation = 'relu'))\n",
        "model1.add(Dense(units = 6, activation = 'relu'))\n",
        "model1.add(Dense(units = 2, activation = 'softmax'))\n",
        "\n",
        "# Compiling the model\n",
        "model1.compile(loss = 'categorical_crossentropy', optimizer = 'sgd')"
      ],
      "metadata": {
        "id": "1DYPCcAJj00e"
      },
      "execution_count": 56,
      "outputs": []
    },
    {
      "cell_type": "markdown",
      "source": [
        "Above is the construction of the neural network, as we have 2000 points I think we can do a 5 split K fold cross validation and get good results so going to run that below in order to see what results the model gives and be able to work on improving it. This method is important to ensure that minimal overfitting is ocurring."
      ],
      "metadata": {
        "id": "QSszavOjxVe4"
      }
    },
    {
      "cell_type": "code",
      "source": [
        "# Setting up a k fold cross validation\n",
        "kf = KFold(n_splits = 5, shuffle = True)\n",
        "\n",
        "# Defining empty arrays to add our fraction values to so an average can be calculated at the end\n",
        "testfractions = 0\n",
        "trainfractions = 0\n",
        "a = 0;\n",
        "\n",
        "for train_index, test_index in kf.split(Inputs):\n",
        "  TrainingInputs = Inputs[train_index]\n",
        "  TrainingTargetHit = TargetHit1_binary[train_index]\n",
        "  TestInputs = Inputs[test_index]\n",
        "  TestTargetHit = TargetHit1_binary[test_index]\n",
        "\n",
        "  # Use X_train, y_train to train the SVM\n",
        "  model1.fit(TrainingInputs, TrainingTargetHit, epochs = 10, batch_size = 40)\n",
        "  # Use svm.predict() to predict the output for the test data set\n",
        "  testresults = model1.predict(TestInputs)\n",
        "  # loop through to compare the test data output to what it should be and obtain the fraction of correct classifications\n",
        "  count = 0\n",
        "  for i in range(len(TestTargetHit[:,0])):\n",
        "    if (testresults[i, 0] > testresults[i, 1] and TestTargetHit[i, 0] > TestTargetHit[i, 1]) or (testresults[i, 0] < testresults[i, 1] and TestTargetHit[i, 0] < TestTargetHit[i, 1]):\n",
        "      count = count+1\n",
        "  testfractions = testfractions + (count / len(TestTargetHit[:,0]))\n",
        "  # Do the same prediction and assessment performance with the training data\n",
        "  count = 0\n",
        "  trainresults = model1.predict(TrainingInputs)\n",
        "  for i in range(len(TrainingTargetHit[:,0])):\n",
        "    if (trainresults[i, 0] > trainresults[i, 1] and TrainingTargetHit[i, 0] > TrainingTargetHit[i, 1]) or (trainresults[i, 0] < trainresults[i, 1] and TrainingTargetHit[i, 0] < TrainingTargetHit[i, 1]):\n",
        "      count = count+1\n",
        "  trainfractions = trainfractions + (count / len(TrainingTargetHit[:,0]))\n",
        "\n",
        "# Dividing the sum of 5 fraction values to get the average\n",
        "testfraction = testfractions/5\n",
        "trainfraction = trainfractions/5\n",
        "\n",
        "# Printing the final accuracy values\n",
        "print(testfraction)\n",
        "print(trainfraction)"
      ],
      "metadata": {
        "id": "7O7TO3YBzDk3"
      },
      "execution_count": null,
      "outputs": []
    },
    {
      "cell_type": "markdown",
      "source": [
        "Now model has been tested and proven out can export and run through the check script provided to check everything works and also get an idea of how accurate it is."
      ],
      "metadata": {
        "id": "4Dse4uv-1k9R"
      }
    },
    {
      "cell_type": "code",
      "source": [
        "# Exporting the model\n",
        "model1.save('jg619-1.h5')\n",
        "\n",
        "# Saving the scaling parameters for temperature and strength\n",
        "scArray = np.array([[ArmLength1Mean, BallWeight1Mean, BallRadius1Mean, AirTemp1Mean, SpringConst1Mean, DeviceWeight1Mean], [ArmLength1std, BallWeight1std, BallRadius1std, AirTemp1std, SpringConst1std, DeviceWeight1std]])\n",
        "np.savetxt('jg619-1.txt', scArray)\n",
        "\n",
        "# Downloading the files\n",
        "from google.colab import files\n",
        "files.download('jg619-1.h5')\n",
        "files.download('jg619-1.txt')"
      ],
      "metadata": {
        "colab": {
          "base_uri": "https://localhost:8080/",
          "height": 17
        },
        "id": "VBVW-Fkw1uy0",
        "outputId": "9a130fe8-c128-453d-8165-7d9cb9e42924"
      },
      "execution_count": 64,
      "outputs": [
        {
          "output_type": "display_data",
          "data": {
            "text/plain": [
              "<IPython.core.display.Javascript object>"
            ],
            "application/javascript": [
              "\n",
              "    async function download(id, filename, size) {\n",
              "      if (!google.colab.kernel.accessAllowed) {\n",
              "        return;\n",
              "      }\n",
              "      const div = document.createElement('div');\n",
              "      const label = document.createElement('label');\n",
              "      label.textContent = `Downloading \"${filename}\": `;\n",
              "      div.appendChild(label);\n",
              "      const progress = document.createElement('progress');\n",
              "      progress.max = size;\n",
              "      div.appendChild(progress);\n",
              "      document.body.appendChild(div);\n",
              "\n",
              "      const buffers = [];\n",
              "      let downloaded = 0;\n",
              "\n",
              "      const channel = await google.colab.kernel.comms.open(id);\n",
              "      // Send a message to notify the kernel that we're ready.\n",
              "      channel.send({})\n",
              "\n",
              "      for await (const message of channel.messages) {\n",
              "        // Send a message to notify the kernel that we're ready.\n",
              "        channel.send({})\n",
              "        if (message.buffers) {\n",
              "          for (const buffer of message.buffers) {\n",
              "            buffers.push(buffer);\n",
              "            downloaded += buffer.byteLength;\n",
              "            progress.value = downloaded;\n",
              "          }\n",
              "        }\n",
              "      }\n",
              "      const blob = new Blob(buffers, {type: 'application/binary'});\n",
              "      const a = document.createElement('a');\n",
              "      a.href = window.URL.createObjectURL(blob);\n",
              "      a.download = filename;\n",
              "      div.appendChild(a);\n",
              "      a.click();\n",
              "      div.remove();\n",
              "    }\n",
              "  "
            ]
          },
          "metadata": {}
        },
        {
          "output_type": "display_data",
          "data": {
            "text/plain": [
              "<IPython.core.display.Javascript object>"
            ],
            "application/javascript": [
              "download(\"download_5fd55daf-5026-433b-a378-7e7a10343687\", \"jg619-1.h5\", 32832)"
            ]
          },
          "metadata": {}
        },
        {
          "output_type": "display_data",
          "data": {
            "text/plain": [
              "<IPython.core.display.Javascript object>"
            ],
            "application/javascript": [
              "\n",
              "    async function download(id, filename, size) {\n",
              "      if (!google.colab.kernel.accessAllowed) {\n",
              "        return;\n",
              "      }\n",
              "      const div = document.createElement('div');\n",
              "      const label = document.createElement('label');\n",
              "      label.textContent = `Downloading \"${filename}\": `;\n",
              "      div.appendChild(label);\n",
              "      const progress = document.createElement('progress');\n",
              "      progress.max = size;\n",
              "      div.appendChild(progress);\n",
              "      document.body.appendChild(div);\n",
              "\n",
              "      const buffers = [];\n",
              "      let downloaded = 0;\n",
              "\n",
              "      const channel = await google.colab.kernel.comms.open(id);\n",
              "      // Send a message to notify the kernel that we're ready.\n",
              "      channel.send({})\n",
              "\n",
              "      for await (const message of channel.messages) {\n",
              "        // Send a message to notify the kernel that we're ready.\n",
              "        channel.send({})\n",
              "        if (message.buffers) {\n",
              "          for (const buffer of message.buffers) {\n",
              "            buffers.push(buffer);\n",
              "            downloaded += buffer.byteLength;\n",
              "            progress.value = downloaded;\n",
              "          }\n",
              "        }\n",
              "      }\n",
              "      const blob = new Blob(buffers, {type: 'application/binary'});\n",
              "      const a = document.createElement('a');\n",
              "      a.href = window.URL.createObjectURL(blob);\n",
              "      a.download = filename;\n",
              "      div.appendChild(a);\n",
              "      a.click();\n",
              "      div.remove();\n",
              "    }\n",
              "  "
            ]
          },
          "metadata": {}
        },
        {
          "output_type": "display_data",
          "data": {
            "text/plain": [
              "<IPython.core.display.Javascript object>"
            ],
            "application/javascript": [
              "download(\"download_e24320a3-42bc-4c85-985a-98b2457727ca\", \"jg619-1.txt\", 300)"
            ]
          },
          "metadata": {}
        }
      ]
    }
  ]
}