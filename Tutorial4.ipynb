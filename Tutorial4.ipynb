{
  "nbformat": 4,
  "nbformat_minor": 0,
  "metadata": {
    "colab": {
      "provenance": [],
      "authorship_tag": "ABX9TyM0+d00Ngmb+Ym2ZDnLZXLl",
      "include_colab_link": true
    },
    "kernelspec": {
      "name": "python3",
      "display_name": "Python 3"
    },
    "language_info": {
      "name": "python"
    }
  },
  "cells": [
    {
      "cell_type": "markdown",
      "metadata": {
        "id": "view-in-github",
        "colab_type": "text"
      },
      "source": [
        "<a href=\"https://colab.research.google.com/github/JGrant3101/ME4MachineLearning/blob/main/Tutorial4.ipynb\" target=\"_parent\"><img src=\"https://colab.research.google.com/assets/colab-badge.svg\" alt=\"Open In Colab\"/></a>"
      ]
    },
    {
      "cell_type": "code",
      "execution_count": null,
      "metadata": {
        "id": "Mh4Jl4eWWKmH"
      },
      "outputs": [],
      "source": [
        "# Start by importing any libraries that we might need\n",
        "import numpy as np\n",
        "import matplotlib.pyplot as plt\n",
        "import sklearn\n",
        "from sklearn import datasets\n",
        "from sklearn import model_selection\n",
        "from sklearn import naive_bayes\n",
        "from sklearn import linear_model\n",
        "from sklearn.naive_bayes import GaussianNB\n",
        "from sklearn.linear_model import LinearRegression\n",
        "from sklearn import preprocessing\n",
        "from sklearn.preprocessing import PolynomialFeatures\n",
        "import pandas\n",
        "import plotly.graph_objects as go\n",
        "import sys\n"
      ]
    },
    {
      "cell_type": "markdown",
      "source": [
        "Question 1"
      ],
      "metadata": {
        "id": "SDmoXneVWPtx"
      }
    },
    {
      "cell_type": "code",
      "source": [
        "# Start by importing the dataset and creating arrays of temperature and strength\n",
        "data = pandas.read_csv(\"http://pogo.software/me4ml/tensile_strength.csv\")\n",
        "t = np.array(data['Temperature (deg C)'][:])\n",
        "s = np.array(data['Ultimate tensile strength (Pa)'][:])\n",
        "# Calculate the mean and standard deviation of both the temperature and strength\n",
        "t_mean = np.mean(t)\n",
        "t_std = np.std(t)\n",
        "s_mean = np.mean(s)\n",
        "s_std = np.std(s)\n",
        "\n",
        "# Scaling the data, this centres both signals around 0 and gives them similar magnitudes\n",
        "t_scale = (t - t_mean) / t_std\n",
        "s_scale = (s - s_mean) / s_std\n",
        "\n",
        "# Plotting a histogram of the scaled data\n",
        "fig, ax = plt.subplots()\n",
        "plt.hist(s_scale)\n",
        "plt.show()"
      ],
      "metadata": {
        "colab": {
          "base_uri": "https://localhost:8080/",
          "height": 430
        },
        "id": "gTtesO5pX0Ok",
        "outputId": "92d91d4d-d0f3-4d93-fc2e-6ff3bc3c575c"
      },
      "execution_count": null,
      "outputs": [
        {
          "output_type": "display_data",
          "data": {
            "text/plain": [
              "<Figure size 640x480 with 1 Axes>"
            ],
            "image/png": "[encoded data removed]"
          },
          "metadata": {}
        }
      ]
    },
    {
      "cell_type": "markdown",
      "source": [
        "Above we have plotted a histogram of the scalled strength data."
      ],
      "metadata": {
        "id": "xLLK6ZJIBhS1"
      }
    },
    {
      "cell_type": "code",
      "source": [
        "# Saving the scaling parameters for temperature and strength\n",
        "scArray = np.array([[t_mean, s_mean], [t_std, s_std]])\n",
        "np.savetxt('scaleParams.txt', scArray)\n",
        "\n",
        "# Downloading the file from the colab interface\n",
        "from google.colab import files\n",
        "files.download('scaleParams.txt')\n",
        "\n",
        "# Loading in the parameters\n",
        "loadedScales = np.loadtxt('scaleParams.txt')"
      ],
      "metadata": {
        "colab": {
          "base_uri": "https://localhost:8080/",
          "height": 17
        },
        "id": "U9RBiQRABl9V",
        "outputId": "d3de1f54-c900-487a-b521-a3ba1ba1fcae"
      },
      "execution_count": null,
      "outputs": [
        {
          "output_type": "display_data",
          "data": {
            "text/plain": [
              "<IPython.core.display.Javascript object>"
            ],
            "application/javascript": [
              "\n",
              "    async function download(id, filename, size) {\n",
              "      if (!google.colab.kernel.accessAllowed) {\n",
              "        return;\n",
              "      }\n",
              "      const div = document.createElement('div');\n",
              "      const label = document.createElement('label');\n",
              "      label.textContent = `Downloading \"${filename}\": `;\n",
              "      div.appendChild(label);\n",
              "      const progress = document.createElement('progress');\n",
              "      progress.max = size;\n",
              "      div.appendChild(progress);\n",
              "      document.body.appendChild(div);\n",
              "\n",
              "      const buffers = [];\n",
              "      let downloaded = 0;\n",
              "\n",
              "      const channel = await google.colab.kernel.comms.open(id);\n",
              "      // Send a message to notify the kernel that we're ready.\n",
              "      channel.send({})\n",
              "\n",
              "      for await (const message of channel.messages) {\n",
              "        // Send a message to notify the kernel that we're ready.\n",
              "        channel.send({})\n",
              "        if (message.buffers) {\n",
              "          for (const buffer of message.buffers) {\n",
              "            buffers.push(buffer);\n",
              "            downloaded += buffer.byteLength;\n",
              "            progress.value = downloaded;\n",
              "          }\n",
              "        }\n",
              "      }\n",
              "      const blob = new Blob(buffers, {type: 'application/binary'});\n",
              "      const a = document.createElement('a');\n",
              "      a.href = window.URL.createObjectURL(blob);\n",
              "      a.download = filename;\n",
              "      div.appendChild(a);\n",
              "      a.click();\n",
              "      div.remove();\n",
              "    }\n",
              "  "
            ]
          },
          "metadata": {}
        },
        {
          "output_type": "display_data",
          "data": {
            "text/plain": [
              "<IPython.core.display.Javascript object>"
            ],
            "application/javascript": [
              "download(\"download_97eae911-633e-465c-aaa7-d93e6eac941f\", \"scaleParams.txt\", 100)"
            ]
          },
          "metadata": {}
        }
      ]
    },
    {
      "cell_type": "markdown",
      "source": [
        "Question 2"
      ],
      "metadata": {
        "id": "EE1zrOuiEcQu"
      }
    },
    {
      "cell_type": "code",
      "source": [
        "# Plotting a linear discrimination function\n",
        "# Creating an x1 and x2 array\n",
        "x1 = np.linspace(0, 1, 101)\n",
        "x2 = np.linspace(0, 1, 101)\n",
        "x1grid, x2grid = np.meshgrid(x1, x2)\n",
        "Xgrid = np.array([x1grid, x2grid]).reshape([2, 101*101]).T\n",
        "\n",
        "# Creating the weight vector and the threshold weight\n",
        "w = np.array([[-1], [-3]])\n",
        "w0 = 1\n",
        "\n",
        "# Defining the discrimination function\n",
        "g = np.matmul(w.T, Xgrid.T).T + w0\n",
        "g = np.reshape(g, [101, 101])\n",
        "\n",
        "# Line which corresponds to the discrmination line, g(x) = 0\n",
        "yDiscr = (-x1 + 1) / 3\n",
        "\n",
        "# Plotting\n",
        "fig, ax = plt.subplots()\n",
        "plt.contourf(x1, x2, g)\n",
        "plt.plot(x1, yDiscr, color = 'r')\n",
        "plt.colorbar()\n",
        "plt.xlim(0, 1)\n",
        "plt.ylim(0, 1)"
      ],
      "metadata": {
        "colab": {
          "base_uri": "https://localhost:8080/",
          "height": 452
        },
        "id": "lOVqETuWEh1D",
        "outputId": "766cb5de-a8ab-42e1-e742-a810e0347e77"
      },
      "execution_count": null,
      "outputs": [
        {
          "output_type": "execute_result",
          "data": {
            "text/plain": [
              "(0.0, 1.0)"
            ]
          },
          "metadata": {},
          "execution_count": 52
        },
        {
          "output_type": "display_data",
          "data": {
            "text/plain": [
              "<Figure size 640x480 with 2 Axes>"
            ],
            "image/png": "[encoded data removed]"
          },
          "metadata": {}
        }
      ]
    },
    {
      "cell_type": "markdown",
      "source": [
        "Above we have generated a contour plot for the discriminant function defined in the question as well as defining the g = 0 line."
      ],
      "metadata": {
        "id": "WnR6Xo7oRRC4"
      }
    },
    {
      "cell_type": "markdown",
      "source": [
        "Question 3"
      ],
      "metadata": {
        "id": "ejbk2MghRfPK"
      }
    },
    {
      "cell_type": "code",
      "source": [
        "# Plotting classification areas\n",
        "# Defining our different weight vectors\n",
        "a1 = np.array([[1.3], [-1], [-3]])\n",
        "a2 = np.array([[-2], [1], [2]])\n",
        "a3 = np.array([[0.3], [0.1], [-0.1]])\n",
        "a4 = np.array([[0], [-1], [1]])\n",
        "a5 = np.array([[-0.2], [1.5], [-1]])\n",
        "\n",
        "# Can use the same Xgrid as before as once again we want x1 and x2 varying from 0 to 1\n",
        "# Ygrid is defined as the same as Xgrid, except it has 1 at the beginning - this therefore adds a column of ones to the left\n",
        "Ygrid = np.concatenate([np.ones([101 * 101, 1]), Xgrid], axis = 1)\n",
        "\n",
        "#Calculate each of the five functions of g as defined, g = ay where a is the weight vector and y is the matrix of 1's, x1 values and x2 values\n",
        "g1 = np.matmul(Ygrid, a1)\n",
        "g2 = np.matmul(Ygrid, a2)\n",
        "g3 = np.matmul(Ygrid, a3)\n",
        "g4 = np.matmul(Ygrid, a4)\n",
        "g5 = np.matmul(Ygrid, a5)\n",
        "\n",
        "# Combine all 5 functions together\n",
        "gconc = np.concatenate([g1, g2, g3, g4, g5], axis = 1)\n",
        "\n",
        "# Find which of the values is largest for each row, this corresponds to which i has the largest gi(x) which is what we ant\n",
        "omega = np.argmax(gconc, axis = 1)\n",
        "\n",
        "# Put back onto 2D grid so it can easily be plott\n",
        "omega = np.reshape(omega, [101, 101])\n",
        "\n",
        "#Plotting\n",
        "fig, ax = plt.subplots()\n",
        "plt.contourf(x1, x2, omega)"
      ],
      "metadata": {
        "colab": {
          "base_uri": "https://localhost:8080/",
          "height": 452
        },
        "id": "1aXsvTORRgcD",
        "outputId": "8deeed1e-9418-4ea2-f1ea-3155bcb9b846"
      },
      "execution_count": null,
      "outputs": [
        {
          "output_type": "execute_result",
          "data": {
            "text/plain": [
              "<matplotlib.contour.QuadContourSet at 0x7f7f72a98490>"
            ]
          },
          "metadata": {},
          "execution_count": 35
        },
        {
          "output_type": "display_data",
          "data": {
            "text/plain": [
              "<Figure size 640x480 with 1 Axes>"
            ],
            "image/png": "[encoded data removed]"
          },
          "metadata": {}
        }
      ]
    },
    {
      "cell_type": "markdown",
      "source": [
        "Above we have generated a 2D map of classification based on 5 different linear discriminant function."
      ],
      "metadata": {
        "id": "IIdns5rpXCiK"
      }
    },
    {
      "cell_type": "code",
      "source": [
        "#Adding an x1x2 term\n",
        "a1 = np.array([[1.3], [-1], [-3], [-10]])\n",
        "a2 = np.array([[-1], [1.5], [3], [-1]])\n",
        "a3 = np.array([[0.4], [-0.1], [-0.1], [3]])\n",
        "a4 = np.array([[0.5], [-1], [1], [-0.1]])\n",
        "a5 = np.array([[-0.2], [1.5], [-1], [0.4]])\n",
        "\n",
        "# Adding the x1x2 terms to the Ygrid array\n",
        "x1x2 = np.multiply(x1grid, x2grid)\n",
        "x1x2 = np.reshape(x1x2, [101 * 101, 1])\n",
        "\n",
        "YgridNL = np.concatenate([Ygrid, x1x2], axis = 1)\n",
        "\n",
        "#Calculate each of the five functions of g as defined, g = ay where a is the weight vector and y is the matrix of 1's, x1 values and x2 values\n",
        "g1NL = np.matmul(YgridNL, a1)\n",
        "g2NL = np.matmul(YgridNL, a2)\n",
        "g3NL = np.matmul(YgridNL, a3)\n",
        "g4NL = np.matmul(YgridNL, a4)\n",
        "g5NL = np.matmul(YgridNL, a5)\n",
        "\n",
        "# Combine all 5 functions together\n",
        "gNLconc = np.concatenate([g1NL, g2NL, g3NL, g4NL, g5NL], axis = 1)\n",
        "\n",
        "# Find which of the values is largest for each row, this corresponds to which i has the largest gi(x) which is what we ant\n",
        "omegaNL = np.argmax(gNLconc, axis = 1)\n",
        "\n",
        "# Put back onto 2D grid so it can easily be plott\n",
        "omegaNL = np.reshape(omegaNL, [101, 101])\n",
        "\n",
        "#Plotting\n",
        "fig, ax = plt.subplots()\n",
        "plt.contourf(x1, x2, omegaNL)"
      ],
      "metadata": {
        "colab": {
          "base_uri": "https://localhost:8080/",
          "height": 452
        },
        "id": "0n3239dFXaGq",
        "outputId": "94551f40-7433-49b2-c4de-4bcbf02f86cd"
      },
      "execution_count": null,
      "outputs": [
        {
          "output_type": "execute_result",
          "data": {
            "text/plain": [
              "<matplotlib.contour.QuadContourSet at 0x7f7f7042f580>"
            ]
          },
          "metadata": {},
          "execution_count": 46
        },
        {
          "output_type": "display_data",
          "data": {
            "text/plain": [
              "<Figure size 640x480 with 1 Axes>"
            ],
            "image/png": "[encoded data removed]"
          },
          "metadata": {}
        }
      ]
    },
    {
      "cell_type": "markdown",
      "source": [
        "Above we have generated a 2D map of classification based on 5 different non linear determination functions"
      ],
      "metadata": {
        "id": "EQSZLhXuaPAi"
      }
    }
  ]
}