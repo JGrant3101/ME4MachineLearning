{
  "nbformat": 4,
  "nbformat_minor": 0,
  "metadata": {
    "colab": {
      "provenance": [],
      "include_colab_link": true
    },
    "kernelspec": {
      "name": "python3",
      "display_name": "Python 3"
    }
  },
  "cells": [
    {
      "cell_type": "markdown",
      "metadata": {
        "id": "view-in-github",
        "colab_type": "text"
      },
      "source": [
        "<a href=\"https://colab.research.google.com/github/JGrant3101/ME4MachineLearning/blob/main/Tutorial5.ipynb\" target=\"_parent\"><img src=\"https://colab.research.google.com/assets/colab-badge.svg\" alt=\"Open In Colab\"/></a>"
      ]
    },
    {
      "cell_type": "code",
      "metadata": {
        "id": "ktf471zM8zzZ"
      },
      "source": [
        "import numpy as np\n",
        "\n",
        "\n",
        "def get_cov(sdx=1., sdy=1., rotangdeg=0.):\n",
        "    covar = np.array([[sdx, 0], [0, sdy]])\n",
        "    rot_ang = rotangdeg / 360 * 2 * np.pi\n",
        "    rot_mat = np.array([[np.cos(rot_ang), -np.sin(rot_ang)], [np.sin(rot_ang), np.cos(rot_ang)]])\n",
        "\n",
        "    covar = np.matmul(np.matmul(rot_mat, covar), rot_mat.transpose())\n",
        "    return covar\n",
        "\n",
        "\n",
        "def gen_circular_distribution(n=500, scale=1):\n",
        "    a = np.round(n / 7).astype('int')\n",
        "    b = np.round(2*n / 7).astype('int')\n",
        "    c = n - a - b\n",
        "    r1 = np.concatenate(\n",
        "        [np.random.normal(loc=2, scale=scale, size=[a, 1]), np.random.normal(loc=8, scale=scale, size=[c, 1])])\n",
        "    r2 = np.random.normal(loc=5, scale=scale, size=[b, 1])\n",
        "\n",
        "    th1 = np.random.uniform(low=0, high=2 * np.pi, size=[a+c, 1])\n",
        "    th2 = np.random.uniform(low=0, high=2 * np.pi, size=[b, 1])\n",
        "\n",
        "    x1a = r1 * np.cos(th1)\n",
        "    x2a = r1 * np.sin(th1)\n",
        "\n",
        "    x1b = r2 * np.cos(th2)\n",
        "    x2b = r2 * np.sin(th2)\n",
        "\n",
        "    X = np.concatenate([np.concatenate([x1a.reshape([a+c, 1]), x1b.reshape([b, 1])]),\n",
        "                        np.concatenate([x2a.reshape([a+c, 1]), x2b.reshape([b, 1])])], axis=1)\n",
        "\n",
        "    y = np.concatenate([np.zeros([a+c, 1]), np.ones([b, 1])]).squeeze()\n",
        "    return X, y\n",
        "\n",
        "\n",
        "def gen_simple_circular_distribution(n=100, scale=1):\n",
        "    a = np.round(n/3).astype('int')\n",
        "    b = n-a\n",
        "    r1 = np.random.normal(loc=0, scale=scale, size=[a, 1])\n",
        "    r2 = np.random.normal(loc=5, scale=scale, size=[b, 1])\n",
        "\n",
        "    th1 = np.random.uniform(low=0, high=2 * np.pi, size=[a, 1])\n",
        "    th2 = np.random.uniform(low=0, high=2 * np.pi, size=[b, 1])\n",
        "\n",
        "    x1a = r1 * np.cos(th1)\n",
        "    x2a = r1 * np.sin(th1)\n",
        "\n",
        "    x1b = r2 * np.cos(th2)\n",
        "    x2b = r2 * np.sin(th2)\n",
        "\n",
        "    X = np.concatenate([np.concatenate([x1a.reshape([a, 1]), x1b.reshape([b, 1])]),\n",
        "                        np.concatenate([x2a.reshape([a, 1]), x2b.reshape([b, 1])])], axis=1)\n",
        "\n",
        "    y = np.concatenate([np.zeros([a, 1]), np.ones([b, 1])]).squeeze()\n",
        "    return X, y\n",
        "\n",
        "\n",
        "def gen_xor_distribution(n=100):\n",
        "    a = np.round(n / 4).astype('int')\n",
        "    b = n-a*3\n",
        "    xc1 = np.concatenate([np.random.multivariate_normal([-2.3, -2.3], get_cov(0.4, 0.1, -45), a),\n",
        "                          np.random.multivariate_normal([2.3, 2.3], get_cov(0.4, 0.1, -45), a)])\n",
        "    xc2 = np.concatenate([np.random.multivariate_normal([-2.3, 2.3], get_cov(0.4, 0.1, 45), a),\n",
        "                          np.random.multivariate_normal([2.3, -2.3], get_cov(0.4, 0.1, 45), b)])\n",
        "    xc = np.array(np.concatenate([xc1, xc2]))\n",
        "\n",
        "    y = np.array(np.concatenate([np.zeros([2 * a, 1]), np.ones([a+b, 1])])).squeeze()\n",
        "    X = xc\n",
        "    return X, y\n"
      ],
      "execution_count": 2,
      "outputs": []
    },
    {
      "cell_type": "markdown",
      "source": [
        "Above is the code given to us by Peter to use throughout the tutorial."
      ],
      "metadata": {
        "id": "mHJcyb7zwtNA"
      }
    },
    {
      "cell_type": "code",
      "source": [
        "# Here I'm importing all the other libaries which have been used in previous tutorials in case they come up again\n",
        "import matplotlib.pyplot as plt\n",
        "import sklearn\n",
        "from sklearn import datasets\n",
        "from sklearn import model_selection\n",
        "from sklearn import naive_bayes\n",
        "from sklearn import linear_model\n",
        "from sklearn.naive_bayes import GaussianNB\n",
        "from sklearn.linear_model import LinearRegression\n",
        "from sklearn import preprocessing\n",
        "from sklearn.preprocessing import PolynomialFeatures\n",
        "import pandas\n",
        "import plotly.graph_objects as go\n",
        "import sys"
      ],
      "metadata": {
        "id": "VaC3NDHNw3vB"
      },
      "execution_count": 3,
      "outputs": []
    },
    {
      "cell_type": "markdown",
      "source": [
        "Question 1"
      ],
      "metadata": {
        "id": "L-sY4PJKxKfQ"
      }
    },
    {
      "cell_type": "code",
      "source": [
        "# Generating a XOR dataset\n",
        "dataset = gen_xor_distribution(400)\n",
        "\n",
        "print(len(dataset))\n",
        "print(size(dataset[1]))\n",
        "#plt.scatter(dataset[0], dataset[1])"
      ],
      "metadata": {
        "colab": {
          "base_uri": "https://localhost:8080/"
        },
        "id": "zLrjUJ87xMjU",
        "outputId": "2ae1a051-aeea-4ae4-d211-dfeb0af850de"
      },
      "execution_count": 35,
      "outputs": [
        {
          "output_type": "stream",
          "name": "stdout",
          "text": [
            "2\n"
          ]
        }
      ]
    }
  ]
}